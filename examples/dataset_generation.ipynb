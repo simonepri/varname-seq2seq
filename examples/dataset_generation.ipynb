{
  "nbformat": 4,
  "nbformat_minor": 0,
  "metadata": {
    "colab": {
      "name": "varname - Dataset Generation",
      "provenance": [],
      "collapsed_sections": [],
      "machine_shape": "hm"
    },
    "kernelspec": {
      "name": "python3",
      "display_name": "Python 3"
    }
  },
  "cells": [
    {
      "cell_type": "markdown",
      "metadata": {
        "id": "t-XQ-925H3N7",
        "colab_type": "text"
      },
      "source": [
        "# Setup"
      ]
    },
    {
      "cell_type": "code",
      "metadata": {
        "id": "PVfFr9DQusvN",
        "colab_type": "code",
        "cellView": "form",
        "colab": {}
      },
      "source": [
        "import os\n",
        "from google.colab import drive as gdrive\n",
        "\n",
        "# @markdown Setup output directory for the models\n",
        "OUTPUT_DIR = 'Colab/varname/' # @param {type:'string'}\n",
        "\n",
        "SAVE_ON_GDRIVE = False # @param {type:'boolean'}\n",
        "\n",
        "if SAVE_ON_GDRIVE:\n",
        "  GDRIVE_ROOT = os.path.abspath('gdrive')\n",
        "  GDRIVE_OUT = os.path.join(GDRIVE_ROOT, 'My Drive', OUTPUT_DIR)\n",
        "  print('[INFO] Mounting Google Drive in {}'.format(GDRIVE_ROOT))\n",
        "  gdrive.mount(GDRIVE_ROOT, force_remount = True)\n",
        "  OUT_PATH = GDRIVE_OUT\n",
        "else:\n",
        "  OUT_PATH = os.path.abspath(OUTPUT_DIR)\n",
        "\n",
        "os.makedirs(OUT_PATH, exist_ok = True)"
      ],
      "execution_count": 0,
      "outputs": []
    },
    {
      "cell_type": "code",
      "metadata": {
        "id": "h6MgTytZChQD",
        "colab_type": "code",
        "cellView": "form",
        "colab": {}
      },
      "source": [
        "# @markdown Machine setup\n",
        "\n",
        "# Install java 11\n",
        "!sudo DEBIAN_FRONTEND=noninteractive apt-get install -qq git openjdk-11-jdk > /dev/null\n",
        "\n",
        "# Install python 3.7 and pip\n",
        "!sudo DEBIAN_FRONTEND=noninteractive apt-get install -qq python3.7 python3.7-dev python3.7-venv python3-pip > /dev/null\n",
        "!sudo update-alternatives --install /usr/bin/python3 python3 /usr/bin/python3.7 1 > /dev/null\n",
        "!python3 -m pip install -q --upgrade pip > /dev/null\n",
        "\n",
        "# Install pipenv (i.e. a better python package manager).\n",
        "!pip3 install pipenv -qq > /dev/null\n",
        "%env PIPENV_QUIET 1\n",
        "%env PIPENV_VENV_IN_PROJECT 1\n",
        "%env PIPENV_SKIP_LOCK 1\n",
        "\n",
        "from IPython.display import clear_output\n",
        "clear_output()"
      ],
      "execution_count": 0,
      "outputs": []
    },
    {
      "cell_type": "code",
      "metadata": {
        "id": "7hUySNJUCvxb",
        "colab_type": "code",
        "cellView": "form",
        "colab": {}
      },
      "source": [
        "# @markdown Download code\n",
        "\n",
        "# Clone the project and cd into it\n",
        "!git clone --branch master https://github.com/simonepri/varname-seq2seq code\n",
        "%cd -q code\n",
        "\n",
        "# Install dependencies\n",
        "!pipenv install > /dev/null"
      ],
      "execution_count": 0,
      "outputs": []
    },
    {
      "cell_type": "markdown",
      "metadata": {
        "id": "8YPm62-1OaoD",
        "colab_type": "text"
      },
      "source": [
        "# Dataset sources"
      ]
    },
    {
      "cell_type": "code",
      "metadata": {
        "id": "eSwc74J-Oc-y",
        "colab_type": "code",
        "outputId": "0af02df5-3b52-4514-c993-5a97e5ee1eca",
        "colab": {
          "base_uri": "https://localhost:8080/",
          "height": 34
        },
        "cellView": "both"
      },
      "source": [
        "# @markdown Define the git repos from which to generate the dataset\n",
        "%%writefile datasets.txt\n",
        "https://github.com/Bukkit/Bukkit\n",
        "https://github.com/clojure/clojure\n",
        "https://github.com/apache/dubbo\n",
        "https://github.com/google/error-prone\n",
        "https://github.com/grails/grails-core\n",
        "https://github.com/google/guice\n",
        "https://github.com/hibernate/hibernate-orm\n",
        "https://github.com/jhy/jsoup\n",
        "https://github.com/junit-team/junit4\n",
        "https://github.com/apache/kafka\n",
        "https://github.com/libgdx/libgdx\n",
        "https://github.com/dropwizard/metrics\n",
        "https://github.com/square/okhttp\n",
        "https://github.com/spring-projects/spring-framework\n",
        "https://github.com/apache/tomcat\n",
        "https://github.com/apache/cassandra"
      ],
      "execution_count": 4,
      "outputs": [
        {
          "output_type": "stream",
          "text": [
            "Writing datasets.txt\n"
          ],
          "name": "stdout"
        }
      ]
    },
    {
      "cell_type": "code",
      "metadata": {
        "id": "-R2GlcXrSn2H",
        "colab_type": "code",
        "colab": {},
        "cellView": "form"
      },
      "source": [
        "# @markdown Download the repos\n",
        "import os\n",
        "DATASET_PATH = os.path.realpath('datasets.txt')\n",
        "\n",
        "!mkdir -p $OUT_PATH/corpora\n",
        "!cd $OUT_PATH/corpora && xargs < $DATASET_PATH -n 1 git clone "
      ],
      "execution_count": 0,
      "outputs": []
    },
    {
      "cell_type": "markdown",
      "metadata": {
        "id": "gyoRrqBdHx6j",
        "colab_type": "text"
      },
      "source": [
        "# Dataset generation"
      ]
    },
    {
      "cell_type": "code",
      "metadata": {
        "id": "vZ9uXbDSVCb2",
        "colab_type": "code",
        "cellView": "form",
        "colab": {}
      },
      "source": [
        "LANGUAGE = 'java' # @param = ['java']"
      ],
      "execution_count": 0,
      "outputs": []
    },
    {
      "cell_type": "code",
      "metadata": {
        "id": "4uhf_iv6VeX-",
        "colab_type": "code",
        "colab": {}
      },
      "source": [
        "# @markdown Generate AST cache if needed\n",
        "!pipenv run bin src/bin/generate_cache.py \\\n",
        "  --language $LANGUAGE \\\n",
        "  --data-path $OUT_PATH/corpora"
      ],
      "execution_count": 0,
      "outputs": []
    },
    {
      "cell_type": "code",
      "metadata": {
        "id": "QQPN_RTkRtBY",
        "colab_type": "code",
        "colab": {}
      },
      "source": [
        "# @markdown Generate examples\n",
        "!pipenv run bin src/bin/generate_examples.py \\\n",
        "    --language $LANGUAGE \\\n",
        "    --cache-only True \\\n",
        "    --input-path $OUT_PATH/corpora \\\n",
        "    --output-path $OUT_PATH/examples"
      ],
      "execution_count": 0,
      "outputs": []
    },
    {
      "cell_type": "code",
      "metadata": {
        "id": "5Y2u7bchU3Z4",
        "colab_type": "code",
        "colab": {}
      },
      "source": [
        "# @markdown Generate masked examples\n",
        "OBFUSCATE = True # @param {type:'boolean'}\n",
        "\n",
        "!pipenv run bin src/bin/generate_masked.py \\\n",
        "    --obfuscate $OBFUSCATE \\\n",
        "    --input-path $OUT_PATH/examples \\\n",
        "    --output-path $OUT_PATH/masked"
      ],
      "execution_count": 0,
      "outputs": []
    },
    {
      "cell_type": "code",
      "metadata": {
        "id": "FUrQf71zWPVx",
        "colab_type": "code",
        "cellView": "both",
        "colab": {}
      },
      "source": [
        "# @markdown Group masked examples by number of tokens, length of the target variable and number of masked variables\n",
        "!pipenv run bin src/bin/generate_groups.py \\\n",
        "    --input-path $OUT_PATH/masked \\\n",
        "    --output-path $OUT_PATH/groups"
      ],
      "execution_count": 0,
      "outputs": []
    },
    {
      "cell_type": "code",
      "metadata": {
        "id": "1jqnHddnWisq",
        "colab_type": "code",
        "colab": {}
      },
      "source": [
        "# @markdown Build the dataset\n",
        "SEED = 42 # @param {type:'number'}\n",
        "SPLITS = '60,10,30' # @param {type:'string'}\n",
        "EXCLUDED = 'juice,kafka' # @param {type:'string'}\n",
        "\n",
        "# Build the train,dev,test splits\n",
        "!pipenv run bin src/bin/generate_dataset.py \\\n",
        "    --splits $SPLITS \\\n",
        "    --exclude $EXCLUDED \\\n",
        "    --input-path $OUT_PATH/groups \\\n",
        "    --output-path $OUT_PATH/dataset\n",
        "\n",
        "# Build the unseen test set\n",
        "!pipenv run bin src/bin/generate_dataset.py \\\n",
        "    --prefix \"unseen\" \\\n",
        "    --no-splits \\\n",
        "    --include $EXCLUDED \\\n",
        "    --input-path $OUT_PATH/groups \\\n",
        "    --output-path $OUT_PATH/dataset"
      ],
      "execution_count": 0,
      "outputs": []
    }
  ]
}
