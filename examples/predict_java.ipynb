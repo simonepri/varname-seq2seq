{
  "nbformat": 4,
  "nbformat_minor": 0,
  "metadata": {
    "colab": {
      "name": "varname - Java Demo",
      "provenance": [],
      "collapsed_sections": [],
      "machine_shape": "hm"
    },
    "kernelspec": {
      "name": "python3",
      "display_name": "Python 3"
    },
    "accelerator": "GPU"
  },
  "cells": [
    {
      "cell_type": "markdown",
      "metadata": {
        "id": "9x6YrtS7Jpup",
        "colab_type": "text"
      },
      "source": [
        "# Setup"
      ]
    },
    {
      "cell_type": "code",
      "metadata": {
        "id": "ID94t9EsYNxh",
        "colab_type": "code",
        "cellView": "form",
        "colab": {}
      },
      "source": [
        "# @markdown Machine setup\n",
        "\n",
        "# Install java 11\n",
        "!sudo DEBIAN_FRONTEND=noninteractive apt-get install -qq git openjdk-11-jdk > /dev/null\n",
        "\n",
        "# Install python 3.7 and pip\n",
        "!sudo DEBIAN_FRONTEND=noninteractive apt-get install -qq python3.7 python3.7-dev python3.7-venv python3-pip > /dev/null\n",
        "!sudo update-alternatives --install /usr/bin/python3 python3 /usr/bin/python3.7 1 > /dev/null\n",
        "!python3 -m pip install -q --upgrade pip > /dev/null\n",
        "\n",
        "# Install pipenv (i.e. a better python package manager).\n",
        "!pip3 install pipenv -qq > /dev/null\n",
        "%env PIPENV_QUIET 1\n",
        "%env PIPENV_VENV_IN_PROJECT 1\n",
        "%env PIPENV_SKIP_LOCK 1\n",
        "\n",
        "from IPython.display import clear_output\n",
        "clear_output()"
      ],
      "execution_count": 0,
      "outputs": []
    },
    {
      "cell_type": "code",
      "metadata": {
        "id": "slzwnFmpBEYu",
        "colab_type": "code",
        "cellView": "form",
        "colab": {}
      },
      "source": [
        "# @markdown Code setup\n",
        "\n",
        "# Clone the project and cd into it\n",
        "!git clone -q --branch master https://github.com/simonepri/varname-seq2seq code\n",
        "%cd -q code\n",
        "\n",
        "# Install dependencies\n",
        "!pipenv install > /dev/null"
      ],
      "execution_count": 0,
      "outputs": []
    },
    {
      "cell_type": "code",
      "metadata": {
        "id": "_2RKgmEgJzwM",
        "colab_type": "code",
        "colab": {},
        "cellView": "form"
      },
      "source": [
        "# @markdown Download the model\n",
        "MODEL_TYPE = \"java-lstm-1-256-256-dtf-lrs-obf\"  # @param [\"java-lstm-1-256-256-dtf-lrs-obf\", \"java-lstm-1-256-256-dtf-lrs\"]\n",
        "!pipenv run bin src/bin/download_data.py --file-name {MODEL_TYPE}.tgz --data-path data/models/{MODEL_TYPE} > /dev/null"
      ],
      "execution_count": 0,
      "outputs": []
    },
    {
      "cell_type": "markdown",
      "metadata": {
        "id": "C3OhAy_0KJ5w",
        "colab_type": "text"
      },
      "source": [
        "# Input code"
      ]
    },
    {
      "cell_type": "code",
      "metadata": {
        "id": "PNrEzKClXXdb",
        "colab_type": "code",
        "cellView": "form",
        "colab": {}
      },
      "source": [
        "!mkdir -p demo\n",
        "CLASS_NAME = \"Test\" # @param {type: \"string\"}"
      ],
      "execution_count": 0,
      "outputs": []
    },
    {
      "cell_type": "code",
      "metadata": {
        "id": "LPJE1PGt77L9",
        "colab_type": "code",
        "colab": {}
      },
      "source": [
        "%%writefile demo/{CLASS_NAME}.java\n",
        "public class Test {\n",
        "  String d;\n",
        "  Test(String a, String b) {\n",
        "    int c = 42;\n",
        "    int d = b.length();\n",
        "    this.d = a;\n",
        "    for (int i = 0; i < c; i++) {\n",
        "      System.out.println(d + \" -> \" + c);\n",
        "    }\n",
        "  }\n",
        "}"
      ],
      "execution_count": 0,
      "outputs": []
    },
    {
      "cell_type": "markdown",
      "metadata": {
        "id": "lgvXTr1BKS4y",
        "colab_type": "text"
      },
      "source": [
        "# Model output"
      ]
    },
    {
      "cell_type": "code",
      "metadata": {
        "id": "0VoPNSw5py1f",
        "colab_type": "code",
        "cellView": "form",
        "outputId": "daaeda0d-7bf5-4672-c6ed-9ec153b4fd37",
        "colab": {
          "base_uri": "https://localhost:8080/",
          "height": 102
        }
      },
      "source": [
        "OBFUSCATE = True # @param {type: \"boolean\"}\n",
        "if OBFUSCATE:\n",
        "    !pipenv run bin -W ignore src/bin/run_e2e.py \\\n",
        "      --model-path data/models/{MODEL_TYPE} \\\n",
        "      --file-path demo/{CLASS_NAME}.java \\\n",
        "      --obfuscate\n",
        "else:\n",
        "  !pipenv run bin -W ignore src/bin/run_e2e.py \\\n",
        "      --model-path data/models/{MODEL_TYPE} \\\n",
        "      --file-path demo/{CLASS_NAME}.java"
      ],
      "execution_count": 0,
      "outputs": [
        {
          "output_type": "stream",
          "text": [
            "⚠️  | 001.001 | a → d\n",
            "⚠️  | 001.002 | b → value\n",
            "⚠️  | 001.003 | c → d\n",
            "⚠️  | 001.004 | d → i\n",
            "✔️  | 001.005 | i\n"
          ],
          "name": "stdout"
        }
      ]
    }
  ]
}
