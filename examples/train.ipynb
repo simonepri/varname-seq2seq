{
  "nbformat": 4,
  "nbformat_minor": 0,
  "metadata": {
    "colab": {
      "name": "varname - Train",
      "provenance": [],
      "collapsed_sections": [],
      "machine_shape": "hm"
    },
    "kernelspec": {
      "name": "python3",
      "display_name": "Python 3"
    },
    "accelerator": "GPU"
  },
  "cells": [
    {
      "cell_type": "markdown",
      "metadata": {
        "id": "t-XQ-925H3N7",
        "colab_type": "text"
      },
      "source": [
        "# Setup"
      ]
    },
    {
      "cell_type": "code",
      "metadata": {
        "id": "PVfFr9DQusvN",
        "colab_type": "code",
        "cellView": "form",
        "colab": {}
      },
      "source": [
        "import os\n",
        "from google.colab import drive as gdrive\n",
        "\n",
        "# @markdown Setup output directory for the models\n",
        "OUTPUT_DIR = 'Colab/varname/' # @param {type:'string'}\n",
        "\n",
        "SAVE_ON_GDRIVE = False # @param {type:'boolean'}\n",
        "\n",
        "if SAVE_ON_GDRIVE:\n",
        "  GDRIVE_ROOT = os.path.abspath('gdrive')\n",
        "  GDRIVE_OUT = os.path.join(GDRIVE_ROOT, 'My Drive', OUTPUT_DIR)\n",
        "  print('[INFO] Mounting Google Drive in {}'.format(GDRIVE_ROOT))\n",
        "  gdrive.mount(GDRIVE_ROOT, force_remount = True)\n",
        "  OUT_PATH = GDRIVE_OUT\n",
        "else:\n",
        "  OUT_PATH = os.path.abspath(OUTPUT_DIR)\n",
        "\n",
        "os.makedirs(OUT_PATH, exist_ok = True)"
      ],
      "execution_count": 0,
      "outputs": []
    },
    {
      "cell_type": "code",
      "metadata": {
        "id": "h6MgTytZChQD",
        "colab_type": "code",
        "cellView": "form",
        "colab": {}
      },
      "source": [
        "# @markdown Machine setup\n",
        "\n",
        "# Install java 11\n",
        "!sudo DEBIAN_FRONTEND=noninteractive apt-get install -qq git openjdk-11-jdk > /dev/null\n",
        "\n",
        "# Install python 3.7 and pip\n",
        "!sudo DEBIAN_FRONTEND=noninteractive apt-get install -qq python3.7 python3.7-dev python3.7-venv python3-pip > /dev/null\n",
        "!sudo update-alternatives --install /usr/bin/python3 python3 /usr/bin/python3.7 1 > /dev/null\n",
        "!python3 -m pip install -q --upgrade pip > /dev/null\n",
        "\n",
        "# Install pipenv (i.e. a better python package manager).\n",
        "!pip3 install pipenv -qq > /dev/null\n",
        "%env PIPENV_QUIET 1\n",
        "%env PIPENV_VENV_IN_PROJECT 1\n",
        "%env PIPENV_SKIP_LOCK 1\n",
        "\n",
        "from IPython.display import clear_output\n",
        "clear_output()"
      ],
      "execution_count": 0,
      "outputs": []
    },
    {
      "cell_type": "code",
      "metadata": {
        "id": "7hUySNJUCvxb",
        "colab_type": "code",
        "cellView": "form",
        "colab": {}
      },
      "source": [
        "# @markdown Download code\n",
        "\n",
        "# Clone the project and cd into it\n",
        "!git clone --branch master https://github.com/simonepri/varname-seq2seq code\n",
        "%cd -q code\n",
        "\n",
        "# Install dependencies\n",
        "!pipenv install > /dev/null"
      ],
      "execution_count": 0,
      "outputs": []
    },
    {
      "cell_type": "code",
      "metadata": {
        "id": "nzXBGHSgQVWy",
        "colab_type": "code",
        "cellView": "form",
        "colab": {}
      },
      "source": [
        "# @markdown Download the dataset\n",
        "DATASET = \"java-corpora-dataset-obfuscated.tgz\"  # @param [\"java-corpora-dataset-obfuscated.tgz\", \"java-corpora-dataset.tgz\"]\n",
        "!pipenv run bin src/bin/download_data.py \\\n",
        "    --file-name \"$DATASET\" \\\n",
        "    --data-path \"data/dataset\""
      ],
      "execution_count": 0,
      "outputs": []
    },
    {
      "cell_type": "markdown",
      "metadata": {
        "id": "gyoRrqBdHx6j",
        "colab_type": "text"
      },
      "source": [
        "# Model training"
      ]
    },
    {
      "cell_type": "code",
      "metadata": {
        "id": "BvY8BX4DtqnW",
        "colab_type": "code",
        "cellView": "form",
        "colab": {}
      },
      "source": [
        "# @markdown Model configs\n",
        "BATCH_SIZE = 256 # @param {type:'number'}\n",
        "RNN_CELL = \"lstm\" # @param ['lstm', 'gru']\n",
        "RNN_BIDIRECTIONAL = False # @param {type:'boolean'}\n",
        "RNN_NUL_LAYERS =  1# @param {type:'number'}\n",
        "RNN_HIDDEN_SIZE = 256 # @param {type:'number'}\n",
        "RNN_EMBEDDING_SIZE = 256 # @param {type:'number'}\n",
        "RNN_TF_RATIO = \"auto\" # @param {type:'raw'}\n",
        "INPUT_SEQ_MAX_LEN = 256 # @param {type:'number'}\n",
        "OUTPUT_SEQ_MAX_LEN = 32 # @param {type:'number'}"
      ],
      "execution_count": 0,
      "outputs": []
    },
    {
      "cell_type": "code",
      "metadata": {
        "id": "QQPN_RTkRtBY",
        "colab_type": "code",
        "colab": {}
      },
      "source": [
        "# @markdown Run training\n",
        "RUN_TRAIN = True # @param {type:'boolean'}\n",
        "TRAIN_RUN_ID = \"lstm-256-256-dtf-obf\" # @param {type:'string'}\n",
        "TRAIN_EPOCHS = 35 # @param {type:'number'}\n",
        "if RUN_TRAIN:\n",
        "  !pipenv run bin src/bin/run_seq2seq.py \\\n",
        "    --do-train \\\n",
        "    --run-id \"$TRAIN_RUN_ID\" \\\n",
        "    --epochs \"$TRAIN_EPOCHS\" \\\n",
        "    --batch-size \"$BATCH_SIZE\" \\\n",
        "    --rnn-cell \"$RNN_CELL\" \\\n",
        "    --rnn-num-layers \"$RNN_NUL_LAYERS\" \\\n",
        "    --rnn-hidden-size \"$RNN_HIDDEN_SIZE\" \\\n",
        "    --rnn-embedding-size \"$RNN_EMBEDDING_SIZE\" \\\n",
        "    --rnn-tf-ratio \"$RNN_TF_RATIO\" \\\n",
        "    --rnn-bidirectional \"$RNN_BIDIRECTIONAL\" \\\n",
        "    --input-seq-max-length \"$INPUT_SEQ_MAX_LEN\" \\\n",
        "    --output-seq-max-length \"$OUTPUT_SEQ_MAX_LEN\" \\\n",
        "    --output-path \"$OUT_PATH\"/models \\\n",
        "    --cache-path \"$OUT_PATH\"/cache \\\n",
        "    --train-file data/dataset/train.mk.tsv \\\n",
        "    --valid-file data/dataset/dev.mk.tsv"
      ],
      "execution_count": 0,
      "outputs": []
    },
    {
      "cell_type": "markdown",
      "metadata": {
        "id": "WadAiS8CIQe9",
        "colab_type": "text"
      },
      "source": [
        "# Model testing"
      ]
    },
    {
      "cell_type": "code",
      "metadata": {
        "id": "QN_vH_advGbL",
        "colab_type": "code",
        "colab": {}
      },
      "source": [
        "# @markdown Print available models\n",
        "!ls -Ral \"$OUT_PATH\"/models"
      ],
      "execution_count": 0,
      "outputs": []
    },
    {
      "cell_type": "code",
      "metadata": {
        "id": "LPJE1PGt77L9",
        "colab_type": "code",
        "colab": {}
      },
      "source": [
        "# @markdown Run tests\n",
        "RUN_TEST = True # @param {type:'boolean'}\n",
        "TEST_RUN_ID = \"lstm-256-256-dtf-obf\" # @param {type:'string'}\n",
        "if RUN_TEST:\n",
        "  !pipenv run bin src/bin/run_seq2seq.py \\\n",
        "    --do-test \\\n",
        "    --run-id \"$TEST_RUN_ID\" \\\n",
        "    --batch-size \"$BATCH_SIZE\" \\\n",
        "    --output-path \"$OUT_PATH\"/models \\\n",
        "    --cache-path \"$OUT_PATH\"/cache \\\n",
        "    --test-file data/dataset/test.mk.tsv\n",
        "  !pipenv run bin src/bin/run_seq2seq.py \\\n",
        "    --do-test \\\n",
        "    --run-id \"$TEST_RUN_ID\" \\\n",
        "    --batch-size \"$BATCH_SIZE\" \\\n",
        "    --output-path \"$OUT_PATH\"/models \\\n",
        "    --cache-path \"$OUT_PATH\"/cache \\\n",
        "    --test-file data/dataset/unseen.all.mk.tsv"
      ],
      "execution_count": 0,
      "outputs": []
    }
  ]
}
